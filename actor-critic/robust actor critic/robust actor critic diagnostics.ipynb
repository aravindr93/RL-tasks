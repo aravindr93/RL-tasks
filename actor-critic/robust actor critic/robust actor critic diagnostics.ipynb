{
 "cells": [
  {
   "cell_type": "code",
   "execution_count": 1,
   "metadata": {
    "collapsed": false
   },
   "outputs": [
    {
     "name": "stderr",
     "output_type": "stream",
     "text": [
      "Using TensorFlow backend.\n"
     ]
    }
   ],
   "source": [
    "from ActorCritic import ActorCritic\n",
    "from ActorCritic import *\n",
    "from utils import *\n",
    "from derivative_routines import *\n",
    "import numpy as np\n",
    "import time as t"
   ]
  },
  {
   "cell_type": "code",
   "execution_count": 2,
   "metadata": {
    "collapsed": true
   },
   "outputs": [],
   "source": [
    "# generate all the data\n",
    "state_dim = 3\n",
    "action_dim = 2\n",
    "param_dim = 5\n",
    "mb_size = 128\n",
    "state = np.random.normal(loc=5.0, size=(mb_size,state_dim)).reshape(mb_size,state_dim)\n",
    "action = np.random.normal(loc=2.0, size=(mb_size,action_dim)).reshape(mb_size,action_dim)\n",
    "reward = np.random.normal(loc=1.0, size=(mb_size,1)).reshape(mb_size,1)\n",
    "next_state = np.random.normal(loc=5.0, size=(mb_size,state_dim)).reshape(mb_size,state_dim)\n",
    "params = np.random.normal(loc=10.0, size=(mb_size, param_dim)).reshape(mb_size,param_dim)"
   ]
  },
  {
   "cell_type": "code",
   "execution_count": 3,
   "metadata": {
    "collapsed": true
   },
   "outputs": [],
   "source": [
    "agent = ActorCritic(state_dim, action_dim, param_dim)"
   ]
  },
  {
   "cell_type": "code",
   "execution_count": 4,
   "metadata": {
    "collapsed": false
   },
   "outputs": [],
   "source": [
    "# push the above generated data to ER\n",
    "for i in range(mb_size):\n",
    "    agent.append_memory(state[i], action[i], reward[i], next_state[i], params[i], 0)"
   ]
  },
  {
   "cell_type": "code",
   "execution_count": 5,
   "metadata": {
    "collapsed": false
   },
   "outputs": [
    {
     "name": "stdout",
     "output_type": "stream",
     "text": [
      "For 500 learner updates, time taken= 5.13072085381\n"
     ]
    }
   ],
   "source": [
    "wts_b4 = unpack_theta(agent.learner.net1)\n",
    "t1 = t.time()\n",
    "for _ in range(500):\n",
    "    agent.update_learners()\n",
    "wts_af1 = unpack_theta(agent.learner.net1)\n",
    "t2 = t.time()\n",
    "print \"For 500 learner updates, time taken=\", t2-t1"
   ]
  },
  {
   "cell_type": "code",
   "execution_count": 6,
   "metadata": {
    "collapsed": false
   },
   "outputs": [
    {
     "name": "stdout",
     "output_type": "stream",
     "text": [
      "Time for 500 epochs =  2.57240200043\n"
     ]
    }
   ],
   "source": [
    "# The above is different from 500 epochs with same minibatch samples\n",
    "t1 = t.time()\n",
    "agent.update_learners(epochs=500)\n",
    "t2 = t.time()\n",
    "print \"Time for 500 epochs = \", t2-t1"
   ]
  },
  {
   "cell_type": "markdown",
   "metadata": {},
   "source": [
    "- Bottle neck is really subsampling the replay memory to prepare data\n",
    "- One way to speed up implimentation: update network once in T time steps, but use T epochs (say T=25)\n",
    "- Within T steps the distribution of ER is unlikely to change much, so the gradient steps won't differ much either"
   ]
  },
  {
   "cell_type": "code",
   "execution_count": 12,
   "metadata": {
    "collapsed": false
   },
   "outputs": [
    {
     "name": "stdout",
     "output_type": "stream",
     "text": [
      "For 100 target network updates, time taken= 32.3734028339\n"
     ]
    }
   ],
   "source": [
    "# How fast is the target network updates?\n",
    "t1 = t.time()\n",
    "for _ in range(100):\n",
    "    agent.update_target_networks()\n",
    "t2 = t.time()\n",
    "print \"For 100 target network updates, time taken=\", t2-t1"
   ]
  },
  {
   "cell_type": "markdown",
   "metadata": {},
   "source": [
    "The bottle neck is really in the set_model_params() function. There is no workaround this -- I need to extract a proper numpy array from the model (this is super fast) and then set the weights back in the appropriate place (super slow).   ---> speeding this part up helps"
   ]
  },
  {
   "cell_type": "code",
   "execution_count": null,
   "metadata": {
    "collapsed": true
   },
   "outputs": [],
   "source": []
  }
 ],
 "metadata": {
  "kernelspec": {
   "display_name": "Python 2",
   "language": "python",
   "name": "python2"
  },
  "language_info": {
   "codemirror_mode": {
    "name": "ipython",
    "version": 2
   },
   "file_extension": ".py",
   "mimetype": "text/x-python",
   "name": "python",
   "nbconvert_exporter": "python",
   "pygments_lexer": "ipython2",
   "version": "2.7.11"
  }
 },
 "nbformat": 4,
 "nbformat_minor": 0
}
